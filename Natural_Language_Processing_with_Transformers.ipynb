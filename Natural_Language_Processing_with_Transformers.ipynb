{
  "nbformat": 4,
  "nbformat_minor": 0,
  "metadata": {
    "colab": {
      "provenance": []
    },
    "kernelspec": {
      "name": "python3",
      "display_name": "Python 3"
    },
    "language_info": {
      "name": "python"
    }
  },
  "cells": [
    {
      "cell_type": "code",
      "execution_count": 1,
      "metadata": {
        "id": "ziape7bQvQXn"
      },
      "outputs": [],
      "source": [
        "# Import required libraries\n",
        "import tensorflow as tf\n",
        "import numpy as np\n",
        "import seaborn as sns\n",
        "import matplotlib.pyplot as plt\n",
        "from transformers import BertTokenizer, TFBertModel\n",
        "from sklearn.metrics.pairwise import cosine_similarity\n",
        "from sklearn.metrics import confusion_matrix, accuracy_score"
      ]
    },
    {
      "cell_type": "markdown",
      "source": [
        "## 1. SETUP: Load Model and Define Data\n"
      ],
      "metadata": {
        "id": "f7GN7IET97-c"
      }
    },
    {
      "cell_type": "code",
      "source": [
        "# Load pre-trained BERT tokenizer and model\n",
        "print(\"Loading BERT model...\")\n",
        "tokenizer = BertTokenizer.from_pretrained('bert-base-uncased')\n",
        "bert_model = TFBertModel.from_pretrained('bert-base-uncased')\n",
        "print(\"Model loaded successfully.\")\n"
      ],
      "metadata": {
        "colab": {
          "base_uri": "https://localhost:8080/"
        },
        "id": "MtlW805LymMa",
        "outputId": "eb46ac5c-33a4-4f0b-8973-6ea8e6f7cf7b"
      },
      "execution_count": 2,
      "outputs": [
        {
          "output_type": "stream",
          "name": "stdout",
          "text": [
            "Loading BERT model...\n"
          ]
        },
        {
          "output_type": "stream",
          "name": "stderr",
          "text": [
            "/usr/local/lib/python3.11/dist-packages/huggingface_hub/utils/_auth.py:94: UserWarning: \n",
            "The secret `HF_TOKEN` does not exist in your Colab secrets.\n",
            "To authenticate with the Hugging Face Hub, create a token in your settings tab (https://huggingface.co/settings/tokens), set it as secret in your Google Colab and restart your session.\n",
            "You will be able to reuse this secret in all of your notebooks.\n",
            "Please note that authentication is recommended but still optional to access public models or datasets.\n",
            "  warnings.warn(\n",
            "TensorFlow and JAX classes are deprecated and will be removed in Transformers v5. We recommend migrating to PyTorch classes or pinning your version of Transformers.\n",
            "Some weights of the PyTorch model were not used when initializing the TF 2.0 model TFBertModel: ['cls.seq_relationship.bias', 'cls.predictions.bias', 'cls.predictions.transform.dense.bias', 'cls.predictions.transform.LayerNorm.bias', 'cls.predictions.transform.LayerNorm.weight', 'cls.predictions.transform.dense.weight', 'cls.seq_relationship.weight']\n",
            "- This IS expected if you are initializing TFBertModel from a PyTorch model trained on another task or with another architecture (e.g. initializing a TFBertForSequenceClassification model from a BertForPreTraining model).\n",
            "- This IS NOT expected if you are initializing TFBertModel from a PyTorch model that you expect to be exactly identical (e.g. initializing a TFBertForSequenceClassification model from a BertForSequenceClassification model).\n",
            "All the weights of TFBertModel were initialized from the PyTorch model.\n",
            "If your task is similar to the task the model of the checkpoint was trained on, you can already use TFBertModel for predictions without further training.\n"
          ]
        },
        {
          "output_type": "stream",
          "name": "stdout",
          "text": [
            "Model loaded successfully.\n"
          ]
        }
      ]
    },
    {
      "cell_type": "code",
      "source": [
        "# Define the 10 sentence pairs for comparison\n",
        "sentence_pairs = [\n",
        "    (\"How do I learn Python?\", \"What is the best way to study Python?\"),          # Similar\n",
        "    (\"What is AI?\", \"How to cook pasta?\"),                                      # Not Similar\n",
        "    (\"How do I bake a chocolate cake?\", \"Give me a chocolate cake recipe.\"),      # Similar\n",
        "    (\"How can I improve my coding skills?\", \"Tips for becoming better at programming.\"), # Similar\n",
        "    (\"Where can I buy cheap laptops?\", \"Best sites to find affordable computers.\"), # Similar\n",
        "    (\"He went to the bank to deposit money.\", \"She visited the river bank to relax.\"), # Not Similar (Polysemy)\n",
        "    (\"I love playing football on weekends.\", \"Soccer is my favorite hobby.\"),      # Similar\n",
        "    (\"The weather is nice today.\", \"I am learning machine learning.\"),          # Not Similar\n",
        "    (\"She read a book about history.\", \"She is reading a novel on past events.\"), # Similar\n",
        "    (\"The car stopped abruptly.\", \"The vehicle came to a sudden halt.\")          # Similar\n",
        "]\n"
      ],
      "metadata": {
        "id": "75Qwe5yJy4Oj"
      },
      "execution_count": 3,
      "outputs": []
    },
    {
      "cell_type": "code",
      "source": [
        "# Define the ground truth labels (1 for similar, 0 for not similar)\n",
        "labels = [1, 0, 1, 1, 1, 0, 1, 0, 1, 1]"
      ],
      "metadata": {
        "id": "aypsPKyTzCCp"
      },
      "execution_count": 4,
      "outputs": []
    },
    {
      "cell_type": "markdown",
      "source": [
        "## 2. EMBEDDING FUNCTION"
      ],
      "metadata": {
        "id": "-c-BKpmq-Wct"
      }
    },
    {
      "cell_type": "code",
      "source": [
        "def get_sentence_embedding(sentence):\n",
        "    \"\"\"\n",
        "    Generates a sentence embedding using mean pooling.\n",
        "    This provides a better semantic representation than using the [CLS] token alone.\n",
        "    \"\"\"\n",
        "    # Tokenize the sentence and return TensorFlow tensors\n",
        "    inputs = tokenizer(sentence, return_tensors='tf', truncation=True, padding=True)\n",
        "\n",
        "    # Get the model's last hidden state\n",
        "    outputs = bert_model(inputs)\n",
        "    last_hidden_state = outputs.last_hidden_state\n",
        "\n",
        "    # Perform mean pooling: average the embeddings of all tokens\n",
        "    # We ignore the [CLS] and [SEP] tokens by slicing [:, 1:-1, :]\n",
        "    sentence_embedding = tf.reduce_mean(last_hidden_state[:, 1:-1, :], axis=1)\n",
        "\n",
        "    return sentence_embedding.numpy()"
      ],
      "metadata": {
        "id": "dHkCpJRuzKN1"
      },
      "execution_count": 5,
      "outputs": []
    },
    {
      "cell_type": "markdown",
      "source": [
        "## 3. COMPUTE SIMILARITY AND PREDICTIONS"
      ],
      "metadata": {
        "id": "qvgKGYav-faf"
      }
    },
    {
      "cell_type": "code",
      "source": [
        "similarities = []\n",
        "predictions = []\n",
        "threshold = 0.7  # Define the similarity threshold\n",
        "\n",
        "for i, (sent1, sent2) in enumerate(sentence_pairs):\n",
        "    # Generate robust sentence embeddings using our corrected function\n",
        "    emb1 = get_sentence_embedding(sent1)\n",
        "    emb2 = get_sentence_embedding(sent2)\n",
        "\n",
        "    # Compute cosine similarity\n",
        "    sim_score = cosine_similarity(emb1, emb2)[0][0]\n",
        "    similarities.append(sim_score)\n",
        "\n",
        "    # Apply threshold to predict the label\n",
        "    pred = 1 if sim_score > threshold else 0\n",
        "    predictions.append(pred)\n",
        "\n",
        "    # Display results for each pair\n",
        "    print(f\"\\nPair {i+1}:\")\n",
        "    print(f\"  Sentence 1: {sent1}\")\n",
        "    print(f\"  Sentence 2: {sent2}\")\n",
        "    print(f\"  Similarity Score: {sim_score:.4f} → Ground Truth: {labels[i]}, Predicted: {pred}\")\n"
      ],
      "metadata": {
        "colab": {
          "base_uri": "https://localhost:8080/"
        },
        "id": "vma-bHK7zPJ3",
        "outputId": "b38a6a4d-6b13-478c-d475-15438997bd0c"
      },
      "execution_count": 6,
      "outputs": [
        {
          "output_type": "stream",
          "name": "stderr",
          "text": [
            "TensorFlow and JAX classes are deprecated and will be removed in Transformers v5. We recommend migrating to PyTorch classes or pinning your version of Transformers.\n"
          ]
        },
        {
          "output_type": "stream",
          "name": "stdout",
          "text": [
            "\n",
            "Pair 1:\n",
            "  Sentence 1: How do I learn Python?\n",
            "  Sentence 2: What is the best way to study Python?\n",
            "  Similarity Score: 0.8159 → Ground Truth: 1, Predicted: 1\n",
            "\n",
            "Pair 2:\n",
            "  Sentence 1: What is AI?\n",
            "  Sentence 2: How to cook pasta?\n",
            "  Similarity Score: 0.5712 → Ground Truth: 0, Predicted: 0\n",
            "\n",
            "Pair 3:\n",
            "  Sentence 1: How do I bake a chocolate cake?\n",
            "  Sentence 2: Give me a chocolate cake recipe.\n",
            "  Similarity Score: 0.8207 → Ground Truth: 1, Predicted: 1\n",
            "\n",
            "Pair 4:\n",
            "  Sentence 1: How can I improve my coding skills?\n",
            "  Sentence 2: Tips for becoming better at programming.\n",
            "  Similarity Score: 0.6666 → Ground Truth: 1, Predicted: 0\n",
            "\n",
            "Pair 5:\n",
            "  Sentence 1: Where can I buy cheap laptops?\n",
            "  Sentence 2: Best sites to find affordable computers.\n",
            "  Similarity Score: 0.7322 → Ground Truth: 1, Predicted: 1\n",
            "\n",
            "Pair 6:\n",
            "  Sentence 1: He went to the bank to deposit money.\n",
            "  Sentence 2: She visited the river bank to relax.\n",
            "  Similarity Score: 0.6874 → Ground Truth: 0, Predicted: 0\n",
            "\n",
            "Pair 7:\n",
            "  Sentence 1: I love playing football on weekends.\n",
            "  Sentence 2: Soccer is my favorite hobby.\n",
            "  Similarity Score: 0.8287 → Ground Truth: 1, Predicted: 1\n",
            "\n",
            "Pair 8:\n",
            "  Sentence 1: The weather is nice today.\n",
            "  Sentence 2: I am learning machine learning.\n",
            "  Similarity Score: 0.5057 → Ground Truth: 0, Predicted: 0\n",
            "\n",
            "Pair 9:\n",
            "  Sentence 1: She read a book about history.\n",
            "  Sentence 2: She is reading a novel on past events.\n",
            "  Similarity Score: 0.8205 → Ground Truth: 1, Predicted: 1\n",
            "\n",
            "Pair 10:\n",
            "  Sentence 1: The car stopped abruptly.\n",
            "  Sentence 2: The vehicle came to a sudden halt.\n",
            "  Similarity Score: 0.8619 → Ground Truth: 1, Predicted: 1\n"
          ]
        }
      ]
    },
    {
      "cell_type": "code",
      "source": [
        "# Calculate the accuracy score\n",
        "accuracy = accuracy_score(labels, predictions)\n",
        "\n",
        "# Print the result formatted as a percentage\n",
        "print(f\"Final Accuracy: {accuracy:.2%}\")"
      ],
      "metadata": {
        "colab": {
          "base_uri": "https://localhost:8080/"
        },
        "id": "vKSCBA4JA2qm",
        "outputId": "2b046563-0dc9-48e2-ec36-620e867746b6"
      },
      "execution_count": 9,
      "outputs": [
        {
          "output_type": "stream",
          "name": "stdout",
          "text": [
            "Final Accuracy: 90.00%\n"
          ]
        }
      ]
    },
    {
      "cell_type": "markdown",
      "source": [
        "## 4. EVALUATION AND VISUALIZATION"
      ],
      "metadata": {
        "id": "QQl8e0aV-vVl"
      }
    },
    {
      "cell_type": "code",
      "source": [
        "# --- Plot 1: Bar Chart of Ground Truth vs. Predicted Labels ---\n",
        "plt.style.use('seaborn-v0_8-whitegrid')\n",
        "fig, ax = plt.subplots(figsize=(12, 6))\n",
        "\n",
        "x = np.arange(len(sentence_pairs))\n",
        "width = 0.35\n",
        "\n",
        "rects1 = ax.bar(x - width/2, labels, width, label='Ground Truth', color='darkcyan')\n",
        "rects2 = ax.bar(x + width/2, predictions, width, label='Predicted', color='coral')\n",
        "\n",
        "ax.set_ylabel('Similarity Label (0 or 1)', fontsize=12)\n",
        "ax.set_title('Ground Truth vs. Predicted Sentence Similarity', fontsize=14, weight='bold')\n",
        "ax.set_xticks(x)\n",
        "ax.set_xticklabels([f\"Pair {i+1}\" for i in range(len(labels))], rotation=45, ha=\"right\")\n",
        "ax.legend()\n",
        "ax.bar_label(rects1, padding=3)\n",
        "ax.bar_label(rects2, padding=3)\n",
        "\n",
        "fig.tight_layout()\n",
        "plt.show()"
      ],
      "metadata": {
        "colab": {
          "base_uri": "https://localhost:8080/",
          "height": 607
        },
        "id": "1VurHz02zU37",
        "outputId": "e2ca42f0-180c-49c3-d716-245b76b99fbe"
      },
      "execution_count": 7,
      "outputs": [
        {
          "output_type": "display_data",
          "data": {
            "text/plain": [
              "<Figure size 1200x600 with 1 Axes>"
            ],
            "image/png": "[encoded data removed]"
          },
          "metadata": {}
        }
      ]
    },
    {
      "cell_type": "code",
      "source": [
        "# --- Plot 2: Confusion Matrix ---\n",
        "cm = confusion_matrix(labels, predictions)\n",
        "cm_labels = ['Not Similar', 'Similar']\n",
        "\n",
        "plt.figure(figsize=(7, 6))\n",
        "sns.heatmap(cm, annot=True, fmt='d', cmap='Blues',\n",
        "            xticklabels=cm_labels, yticklabels=cm_labels, annot_kws={\"size\": 16})\n",
        "\n",
        "plt.title(\"Confusion Matrix\", fontsize=14, weight='bold')\n",
        "plt.xlabel(\"Predicted Label\", fontsize=12)\n",
        "plt.ylabel(\"True Label\", fontsize=12)\n",
        "plt.show()"
      ],
      "metadata": {
        "colab": {
          "base_uri": "https://localhost:8080/",
          "height": 559
        },
        "id": "ALuSwAGQzrYp",
        "outputId": "3588d191-8017-492d-9bfb-2a5812d44081"
      },
      "execution_count": 8,
      "outputs": [
        {
          "output_type": "display_data",
          "data": {
            "text/plain": [
              "<Figure size 700x600 with 2 Axes>"
            ],
            "image/png": "[encoded data removed]"
          },
          "metadata": {}
        }
      ]
    },
    {
      "cell_type": "code",
      "source": [],
      "metadata": {
        "id": "y9enLfRT5VTe"
      },
      "execution_count": 8,
      "outputs": []
    }
  ]
}